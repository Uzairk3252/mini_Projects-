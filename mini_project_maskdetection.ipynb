{
 "cells": [
  {
   "cell_type": "code",
   "execution_count": null,
   "id": "3b0403c8-21bb-45da-b0b4-5a6c3bb17a04",
   "metadata": {},
   "outputs": [],
   "source": [
    "import cv2\n",
    "import numpy as np\n",
    "from tensorflow.keras.models import load_model\n",
    "\n",
    "# Load the pre-trained mask detection model (assumes model is trained and saved)\n",
    "model = load_model('mask_detection_model.h5')  # Path to your trained model\n",
    "\n",
    "# Define labels\n",
    "labels = [\"Wearing Mask\", \"Not Wearing Mask\", \"Wear It Properly\"]\n",
    "\n",
    "# Start video capture\n",
    "cap = cv2.VideoCapture(0)  # 0 is for the default camera\n",
    "\n",
    "# Preprocess function (adapt as per model input requirements)\n",
    "def preprocess_frame(frame):\n",
    "    # Resize frame to the input size the model expects\n",
    "    img = cv2.resize(frame, (224, 224))  # Resize to model input size\n",
    "    img = img / 255.0  # Normalize pixel values\n",
    "    img = np.expand_dims(img, axis=0)  # Add batch dimension\n",
    "    return img\n",
    "\n",
    "while True:\n",
    "    # Capture frame-by-frame\n",
    "    ret, frame = cap.read()\n",
    "    if not ret:\n",
    "        break\n",
    "\n",
    "    # Preprocess the frame\n",
    "    processed_img = preprocess_frame(frame)\n",
    "\n",
    "    # Make prediction using the model\n",
    "    predictions = model.predict(processed_img)\n",
    "    class_index = np.argmax(predictions)  # Get the predicted class\n",
    "\n",
    "    # Display the label on the frame\n",
    "    label = labels[class_index]\n",
    "    color = (0, 255, 0) if class_index == 0 else (0, 0, 255)  # Green for mask, red otherwise\n",
    "\n",
    "    # Draw a bounding box and label on the frame\n",
    "    cv2.putText(frame, label, (30, 30), cv2.FONT_HERSHEY_SIMPLEX, 1, color, 2)\n",
    "    \n",
    "    # Show the frame with predictions\n",
    "    cv2.imshow('Mask Detection', frame)\n",
    "\n",
    "    # Exit when 'q' is pressed\n",
    "    if cv2.waitKey(1) & 0xFF == ord('q'):\n",
    "        break\n",
    "\n",
    "# Release the capture and destroy windows\n",
    "cap.release()\n",
    "cv2.destroyAllWindows()\n"
   ]
  }
 ],
 "metadata": {
  "kernelspec": {
   "display_name": "Python 3 (ipykernel)",
   "language": "python",
   "name": "python3"
  },
  "language_info": {
   "codemirror_mode": {
    "name": "ipython",
    "version": 3
   },
   "file_extension": ".py",
   "mimetype": "text/x-python",
   "name": "python",
   "nbconvert_exporter": "python",
   "pygments_lexer": "ipython3",
   "version": "3.12.4"
  }
 },
 "nbformat": 4,
 "nbformat_minor": 5
}
